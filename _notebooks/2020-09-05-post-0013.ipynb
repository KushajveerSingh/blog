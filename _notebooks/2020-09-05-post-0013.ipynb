{
 "cells": [
  {
   "cell_type": "markdown",
   "metadata": {},
   "source": [
    "# \"Deep dive into fastai DataLoader methods\"\n",
    "> Usage example of fastai DataLoader methods in chronological order (starting from index of item to batch)\n",
    "- toc: true\n",
    "- comments: true\n",
    "- author: Kushajveer Singh\n",
    "- categories: [notes]\n",
    "- badges: true"
   ]
  },
  {
   "cell_type": "code",
   "execution_count": 1,
   "metadata": {},
   "outputs": [],
   "source": [
    "from fastai.vision.all import *"
   ]
  },
  {
   "cell_type": "markdown",
   "metadata": {},
   "source": [
    "First, we define a dummy dataset."
   ]
  },
  {
   "cell_type": "code",
   "execution_count": 2,
   "metadata": {},
   "outputs": [
    {
     "data": {
      "text/plain": [
       "['a', 'b', 'c', 'd', 'e', 'f', 'g', 'h', 'i', 'j']"
      ]
     },
     "execution_count": 2,
     "metadata": {},
     "output_type": "execute_result"
    }
   ],
   "source": [
    "dataset = list(string.ascii_lowercase)[:10]\n",
    "dataset"
   ]
  },
  {
   "cell_type": "markdown",
   "metadata": {},
   "source": [
    "Next, we create a `DataLoader`."
   ]
  },
  {
   "cell_type": "code",
   "execution_count": 3,
   "metadata": {},
   "outputs": [
    {
     "data": {
      "text/plain": [
       "<fastai.data.load.DataLoader at 0x7f3734d233a0>"
      ]
     },
     "execution_count": 3,
     "metadata": {},
     "output_type": "execute_result"
    }
   ],
   "source": [
    "dl = DataLoader(dataset, bs=3, shuffle=True)\n",
    "dl"
   ]
  },
  {
   "cell_type": "markdown",
   "metadata": {},
   "source": [
    "## DataLoader.get_idxs\n",
    "The first thing we need is a way to get a list of indices, that we can then use to get items from the dataset by indexing into it."
   ]
  },
  {
   "cell_type": "code",
   "execution_count": 4,
   "metadata": {},
   "outputs": [
    {
     "data": {
      "text/plain": [
       "[7, 0, 6, 5, 1, 4, 9, 8, 3, 2]"
      ]
     },
     "execution_count": 4,
     "metadata": {},
     "output_type": "execute_result"
    }
   ],
   "source": [
    "dl.get_idxs()"
   ]
  },
  {
   "cell_type": "markdown",
   "metadata": {},
   "source": [
    "## DataLoader.sample\n",
    "In practice we want the list of indices to be returned as a generator because it is more efficient than handling a python list."
   ]
  },
  {
   "cell_type": "code",
   "execution_count": 5,
   "metadata": {},
   "outputs": [
    {
     "data": {
      "text/plain": [
       "<generator object DataLoader.sample.<locals>.<genexpr> at 0x7f3734cb2200>"
      ]
     },
     "execution_count": 5,
     "metadata": {},
     "output_type": "execute_result"
    }
   ],
   "source": [
    "dl.sample()"
   ]
  },
  {
   "cell_type": "code",
   "execution_count": 6,
   "metadata": {},
   "outputs": [
    {
     "data": {
      "text/plain": [
       "[3, 1, 4, 0, 9, 2, 6, 8, 5, 7]"
      ]
     },
     "execution_count": 6,
     "metadata": {},
     "output_type": "execute_result"
    }
   ],
   "source": [
    "list(dl.sample())"
   ]
  },
  {
   "cell_type": "markdown",
   "metadata": {},
   "source": [
    "As we see from the above two examples `get_idxs` and `sample` are the same thing. The only difference is that `get_idxs` returns a list and sample returns a generator of indices.\n",
    "\n",
    "In case of *iterable-style dataset*, index does not make sense as dataset is generated on the fly."
   ]
  },
  {
   "cell_type": "code",
   "execution_count": 7,
   "metadata": {},
   "outputs": [
    {
     "data": {
      "text/plain": [
       "[None, None, None, None, None, None, None, None, None, None]"
      ]
     },
     "execution_count": 7,
     "metadata": {},
     "output_type": "execute_result"
    }
   ],
   "source": [
    "dl.new(indexed=False).get_idxs()"
   ]
  },
  {
   "cell_type": "markdown",
   "metadata": {},
   "source": [
    "## DataLoader.create_item\n",
    "We have got the indices. The next step is to get items from the dataset. This is done using `self.dataset[idx]`. `create_item` does exactly this."
   ]
  },
  {
   "cell_type": "code",
   "execution_count": 8,
   "metadata": {},
   "outputs": [
    {
     "data": {
      "text/plain": [
       "('b', 'c')"
      ]
     },
     "execution_count": 8,
     "metadata": {},
     "output_type": "execute_result"
    }
   ],
   "source": [
    "dl.create_item(1), dl.create_item(2)"
   ]
  },
  {
   "cell_type": "markdown",
   "metadata": {},
   "source": [
    "## DataLoader.after_item\n",
    "After `create_item` we might want to do some operation on it. We can define this operation as a function which takes output of `create_item` as input."
   ]
  },
  {
   "cell_type": "code",
   "execution_count": 9,
   "metadata": {},
   "outputs": [
    {
     "name": "stdout",
     "output_type": "stream",
     "text": [
      "Original item is \"b\"\n",
      "Changed the item to \"b_something\"\n"
     ]
    },
    {
     "data": {
      "text/plain": [
       "'b_something'"
      ]
     },
     "execution_count": 9,
     "metadata": {},
     "output_type": "execute_result"
    }
   ],
   "source": [
    "def func(item): \n",
    "    print(f'Original item is \"{item}\"')\n",
    "    new_item = item + '_something'\n",
    "    print(f'Changed the item to \"{new_item}\"')\n",
    "    return new_item\n",
    "\n",
    "dll = dl.new(after_item=func)\n",
    "\n",
    "dll.after_item(dll.create_item(1))"
   ]
  },
  {
   "cell_type": "markdown",
   "metadata": {},
   "source": [
    "## DataLoader.do_item\n",
    "This method is a shorthand for `dll.after_item(dll.create_item(index))`."
   ]
  },
  {
   "cell_type": "code",
   "execution_count": 10,
   "metadata": {},
   "outputs": [
    {
     "name": "stdout",
     "output_type": "stream",
     "text": [
      "Original item is \"b\"\n",
      "Changed the item to \"b_something\"\n"
     ]
    },
    {
     "data": {
      "text/plain": [
       "'b_something'"
      ]
     },
     "execution_count": 10,
     "metadata": {},
     "output_type": "execute_result"
    }
   ],
   "source": [
    "dll.do_item(1)"
   ]
  },
  {
   "cell_type": "markdown",
   "metadata": {},
   "source": [
    "## DataLoader.before_batch\n",
    "Now we have got the items that we can use for training. The next step is to create a batch. fastai provides us the flexibility to control every step of it. Before creating a batch we have a list of items, and we can use `before_batch` to modify these items. Mixup is a good example of this."
   ]
  },
  {
   "cell_type": "code",
   "execution_count": 11,
   "metadata": {},
   "outputs": [
    {
     "data": {
      "text/plain": [
       "[tensor(1.7000), tensor(2.7000), tensor(1.6000), tensor(4.)]"
      ]
     },
     "execution_count": 11,
     "metadata": {},
     "output_type": "execute_result"
    }
   ],
   "source": [
    "def before_batch(items):\n",
    "    # a very bare-bones implementation of mixup\n",
    "    shuffle = torch.randperm(len(items))\n",
    "    lam = 0.3\n",
    "    return [lam*i+(1-lam)*j for i,j in zip(items, items[shuffle])]\n",
    "\n",
    "dl = DataLoader(bs=2, before_batch=before_batch)\n",
    "items = L(torch.tensor(1.), torch.tensor(2.), torch.tensor(3.), torch.tensor(4))\n",
    "dl.before_batch(items)"
   ]
  },
  {
   "cell_type": "markdown",
   "metadata": {},
   "source": [
    "## DataLoader.create_batch\n",
    "Next step is collating the list of items into a batch. `create_batch` is same as `collate_fn` used in PyTorch. The usage is `create_batch(before_batch(items))`."
   ]
  },
  {
   "cell_type": "markdown",
   "metadata": {},
   "source": [
    "## DataLoader.do_batch\n",
    "A shorthand for `create_batch(before_batch(items))`."
   ]
  },
  {
   "cell_type": "code",
   "execution_count": 13,
   "metadata": {},
   "outputs": [
    {
     "data": {
      "text/plain": [
       "tensor([2.4000, 3.4000, 1.6000, 2.6000])"
      ]
     },
     "execution_count": 13,
     "metadata": {},
     "output_type": "execute_result"
    }
   ],
   "source": [
    "dl.do_batch(items) # Returns a batch of items"
   ]
  },
  {
   "cell_type": "markdown",
   "metadata": {},
   "source": [
    "## DataLoader.after_batch\n",
    "After getting a batch, we can perform any operation on the batch using `after_batch`. This method can be used for defining batch data augmentations to be applied on the GPU."
   ]
  },
  {
   "cell_type": "markdown",
   "metadata": {},
   "source": [
    "## Other useful methods\n",
    "* `before_iter()` - Called before starting to read/iterate `DataLoader`\n",
    "* `after_iter()` - Called after `DataLoader` is read/iterated."
   ]
  }
 ],
 "metadata": {
  "kernelspec": {
   "display_name": "Python 3",
   "language": "python",
   "name": "python3"
  },
  "language_info": {
   "codemirror_mode": {
    "name": "ipython",
    "version": 3
   },
   "file_extension": ".py",
   "mimetype": "text/x-python",
   "name": "python",
   "nbconvert_exporter": "python",
   "pygments_lexer": "ipython3",
   "version": "3.8.5"
  },
  "toc": {
   "base_numbering": 1,
   "nav_menu": {},
   "number_sections": true,
   "sideBar": true,
   "skip_h1_title": true,
   "title_cell": "Table of Contents",
   "title_sidebar": "Contents",
   "toc_cell": false,
   "toc_position": {},
   "toc_section_display": true,
   "toc_window_display": false
  }
 },
 "nbformat": 4,
 "nbformat_minor": 4
}
