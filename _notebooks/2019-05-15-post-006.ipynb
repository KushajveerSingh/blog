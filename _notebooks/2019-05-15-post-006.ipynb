{
 "cells": [
  {
   "cell_type": "markdown",
   "metadata": {},
   "source": [
    "# \"How to become an expert in NLP in 2019\"\n",
    "> Complete list of resources that will provide you with the all the theoretical background of the latest NLP research and techniques.\n",
    "- toc: true\n",
    "- comments: true\n",
    "- author: Kushajveer Singh\n",
    "- categories: [notes]\n",
    "- badges: false"
   ]
  },
  {
   "cell_type": "markdown",
   "metadata": {},
   "source": [
    "In this post, I would focus on all of the theoretical knowledge you need for the latest trends in NLP. I made this reading list as I learned new concepts. For the resources, I include papers, blogs, videos.\n",
    "\n",
    "It is not necessary to read most of the stuff. Your main goal should be to understand that in this paper this thing was introduced and do I understand how it works, how it compares it with state of the art."
   ]
  },
  {
   "cell_type": "markdown",
   "metadata": {},
   "source": [
    "![](images/post_006/01.jpeg)"
   ]
  },
  {
   "cell_type": "markdown",
   "metadata": {},
   "source": [
    "**Trend**: Use bigger transformer based models and solve multi-task learning."
   ]
  },
  {
   "cell_type": "markdown",
   "metadata": {},
   "source": [
    "> Warning: Warning: It is an increasing trend in NLP that if you have a new idea in NLP during reading any of the papers, you will have to use massive compute power to get any reasonable results. So you are limited by the open-source models."
   ]
  },
  {
   "cell_type": "markdown",
   "metadata": {},
   "source": [
    "1. **fastai**:- I had already watched the videos, so I thought I should add it to the top of the list.\n",
    "    * [Lesson 4](https://course.fast.ai/videos/?lesson=4) Practical Deep Learning for Coders. It will get you up with how to implement a language model in fastai.\n",
    "    * [Lesson 12](https://course.fast.ai/videos/?lesson=12) Deep Learning from the Foundations. Goes further into ULMFit training.\n",
    "\n",
    "2. **LSTM**:- Although transformers are mainly used nowadays, in some cases you can still use *LSTM* and it was the first successful model to get good results. You should use *AWD_LSTM* now if you want.\n",
    "    * *Long Short-Term Memory* [paper](https://www.bioinf.jku.at/publications/older/2604.pdf). A quick skim of the paper is sufficient.\n",
    "    * *Understanding LSTM Networks* [blog](https://colah.github.io/posts/2015-08-Understanding-LSTMs/). It explains all the details of the LSTM network graphically.\n",
    "    \n",
    "3. **AWD_LSTM**:- It was proposed to overcome the shortcoming of *LSTM* by introducing dropout between hidden layers, embedding dropout, weight tying. You should use *AWS_LSTM* instead of LSTM.\n",
    "    * *Regularizing and Optimizing LSTM Language Models* [paper](https://arxiv.org/abs/1708.02182). AWD_LSTM paper\n",
    "    * Official [code](https://github.com/salesforce/awd-lstm-lm) by Salesforce\n",
    "    * fastai [implementation](https://github.com/fastai/fastai/blob/master/fastai/text/models/awd_lstm.py)\n",
    "    \n",
    "4. **Pointer Models**:- Although not necessary, it is a good read. You can think of it as pre-attention theory.\n",
    "    * *Pointer Sentinel Mixture Models* [paper](https://arxiv.org/abs/1609.07843)\n",
    "    * Official [video](https://www.youtube.com/watch?v=Ibt8ZpbX3D8) of above paper.\n",
    "    * *Improving Neural Language Models with a continuous cache* [paper](https://openreview.net/pdf?id=B184E5qee)"
   ]
  },
  {
   "cell_type": "markdown",
   "metadata": {},
   "source": [
    "> Tip: What is the difference between weight decay and regularization? In weight decay, you directly add something to the update rule while in regularization it is added to the loss function. Why bring this up? Most probably the DL libraries are using weight_decay instead of regularization under the hood."
   ]
  },
  {
   "cell_type": "markdown",
   "metadata": {},
   "source": [
    "> Note: In some of the papers, you would see that the authors preferred SGD over Adam, citing that Adam does not give good performance. The reason for that is (maybe) PyTorch/Tensorflow are doing the above mistake. This thing is explained in detail in this post."
   ]
  },
  {
   "cell_type": "markdown",
   "metadata": {},
   "source": [
    "5. **Attention**:- Remember **Attention is not all you need**.\n",
    "    * CS224n [video](https://www.youtube.com/watch?v=XXtpJxZBa2c) explaining attention. Attention starts from 1:00:55 hours.\n",
    "    * *Attention is all you need* [paper](https://papers.nips.cc/paper/7181-attention-is-all-you-need.pdf). This paper also introduces the Transformer which is nothing but a stack of encoder and decoder blocks. The magic is how these blocks are made and connected.\n",
    "    * Read an [annotated version](http://nlp.seas.harvard.edu/2018/04/03/attention.html) of the above paper in PyTorch.\n",
    "    * Official [video](https://www.youtube.com/watch?v=rBCqOTEfxvg) explaining Attention\n",
    "    * Google [blog](https://ai.googleblog.com/2017/08/transformer-novel-neural-network.html) for Transformer\n",
    "    * If you are interested in video you can check these [link1](https://www.youtube.com/watch?v=iDulhoQ2pro), [link2](https://www.youtube.com/watch?v=rBCqOTEfxvg).\n",
    "    * *Transformer-XL: Attentive Language Models Beyond a Fixed Length Context* [paper](https://arxiv.org/abs/1901.02860). Better version of Transformer but BERT does not use this.\n",
    "    * Google [blog](https://ai.googleblog.com/2019/01/transformer-xl-unleashing-potential-of.html) for Transformer-XL\n",
    "    * *Transformer-XL — Combining Transformers and RNNs Into a State-of-the-art Language Model* [blog](https://www.lyrn.ai/2019/01/16/transformer-xl-sota-language-model/)\n",
    "    * For video check this [link](https://www.youtube.com/watch?v=cXZ9YBqH3m0).\n",
    "    * *The Illustrated Transformer* [blog](http://jalammar.github.io/illustrated-transformer/)\n",
    "    * *Attention and Memory in Deep Learning and NLP* [blog](http://www.wildml.com/2016/01/attention-and-memory-in-deep-learning-and-nlp/).\n",
    "    * *Attention and Augmented Recurrent Neural Networks* [blog](https://distill.pub/2016/augmented-rnns/).\n",
    "    * *Building the Mighty Transformer for Sequence Tagging in PyTorch: Part 1* [blog](https://medium.com/@kolloldas/building-the-mighty-transformer-for-sequence-tagging-in-pytorch-part-i-a1815655cd8).\n",
    "    * *Building the Mighty Transformer for Sequence Tagging in PyTorch: Part 2* [blog](https://medium.com/@kolloldas/building-the-mighty-transformer-for-sequence-tagging-in-pytorch-part-ii-c85bf8fd145)."
   ]
  },
  {
   "cell_type": "markdown",
   "metadata": {},
   "source": [
    "There is a lot of research going on to make better transformers, maybe I will read more papers on this in the future. Some other transformers include the [Universal Transformer](https://ai.googleblog.com/2018/08/moving-beyond-translation-with.html) and [Evolved Transformer](https://www.lyrn.ai/2019/03/12/the-evolved-transformer/) which used AutoML to come up with Transformer architecture."
   ]
  },
  {
   "cell_type": "markdown",
   "metadata": {},
   "source": [
    "6. **Random resources**\n",
    "    * *Visualizing A Neural Machine Translation Model (Mechanics of Seq2seq Models With Attention)* [blog](http://jalammar.github.io/visualizing-neural-machine-translation-mechanics-of-seq2seq-models-with-attention/_\n",
    "    * *Character-Level Language Modeling with Deeper Self-Attention* [paper](https://arxiv.org/abs/1808.04444).\n",
    "    * *Using the output embedding to Improve Langauge Models* [paper](https://arxiv.org/abs/1608.05859).\n",
    "    * *Quasi-Recurrent Neural Networks* [paper](https://arxiv.org/abs/1611.01576). A very fast version of LSTM. It uses convolution layers to make LSTM computations parallel. Code can be found in the [fastai_library](https://github.com/fastai/fastai/blob/master/fastai/text/models/qrnn.py) or [official_code](https://github.com/salesforce/pytorch-qrnn).\n",
    "    * *Deep Learning for NLP Best Practices* [blog](http://ruder.io/deep-learning-nlp-best-practices/) by Sebastian Ruder. A collection of best practices to be used when training LSTM models.\n",
    "    * *Notes on the state of the art techniques for language modeling* [blog](https://www.fast.ai/2017/08/25/language-modeling-sota/). A quick summary where Jeremy Howard summarizes some of his tricks which he uses in fastai library.\n",
    "    * *Language Modes and Contextualized Word Embeddings* [blog](http://www.davidsbatista.net/blog/2018/12/06/Word_Embeddings/). Gives a quick overview of ELMo, BERT, and other models.\n",
    "    * *The Illustrated BERT, ELMo, and co. (How NLP Cracked Transfer Learning)* [blog](http://jalammar.github.io/illustrated-bert/).\n",
    "    \n",
    "7. **Multi-task Learning**:- I am really excited about this. In this case, you train a single model for multiple tasks (more than 10 if you want). So your data looks like “translate to english some_text_in_german”. Your model actually learns to use the initial information to choose the task that it should perform.\n",
    "    * *An overview of Multi-Task Learning in deep neural networks* [paper](http://jalammar.github.io/illustrated-bert/).\n",
    "    * *The Natural Language Decathlon: Multitask Learning as Question Answering* [paper](https://arxiv.org/abs/1806.08730).\n",
    "    * *Multi-Task Deep Neural Networks for Natural Language Understanding* [paper](https://arxiv.org/pdf/1901.11504.pdf).\n",
    "    * OpenAI GPT is an example of this.\n",
    "    \n",
    "8. **PyTorch**:- Pytorch provide good [tutorials](https://pytorch.org/tutorials/#text) giving you good references on how to code up most of the stuff in NLP.\n",
    "\n",
    "9. **ELMo**:- The first prominent research done where we moved from pretrained word-embeddings to using pretrained-models for getting the word-embeddings. So you use the input sentence to get the embeddings for the tokens present in the sentence.\n",
    "    * *Deep Contextualized word representations* [paper](https://arxiv.org/abs/1802.05365), [video](https://vimeo.com/277672840)\n",
    "    \n",
    "10. **ULMFit**:- Is this better than BERT maybe not, but still in Kaggle competitions and external competitions ULMFiT gets the first place.\n",
    "    * *Universal Language Model Fine-tuning for Text Classification* [paper](https://arxiv.org/abs/1801.06146).\n",
    "    * Jeremy Howard [blog post](http://nlp.fast.ai/classification/2018/05/15/introducting-ulmfit.html) announcing ULMFiT.\n",
    " \n",
    "11. **OpenAI GPT**:- I have not compared BERT with GPT2, but you work on some kind on ensemble if you want. Do not use GPT1 as BERT was made to overcome the limitations of GPT1.\n",
    "    * *GPT1* [paper](https://s3-us-west-2.amazonaws.com/openai-assets/research-covers/language-unsupervised/language_understanding_paper.pdf), [blog](https://openai.com/blog/language-unsupervised/), [code](https://github.com/openai/finetune-transformer-lm)\n",
    "    * *GPT2*  [paper](https://d4mucfpksywv.cloudfront.net/better-language-models/language_models_are_unsupervised_multitask_learners.pdf), [blog](https://openai.com/blog/better-language-models/), [code](https://github.com/openai/gpt-2)\n",
    "    * Check [video](https://www.youtube.com/watch?v=T0I88NhR_9M) by openai on GPT2\n",
    "    \n",
    "12. **BERT**:- The most successful language model right now (as of May 2019).\n",
    "    * *BERT: Pre-training of Deep Bidirectional Transformers for Language Understanding* [paper](https://arxiv.org/abs/1810.04805).\n",
    "    * Google [blog](https://ai.googleblog.com/2018/11/open-sourcing-bert-state-of-art-pre.html) on BERT\n",
    "    * *Dissecting BERT Part 1: The Encoder* [blog](https://medium.com/dissecting-bert/dissecting-bert-part-1-d3c3d495cdb3)\n",
    "    * *Understanding BERT Part 2: BERT Specifics* [blog](https://medium.com/dissecting-bert/dissecting-bert-part2-335ff2ed9c73)\n",
    "    * *Dissecting BERT Appendix: The Decoder* [blog](https://medium.com/dissecting-bert/dissecting-bert-appendix-the-decoder-3b86f66b0e5f)\n",
    "    \n",
    "To use all these models in PyTorch/Tensorflow you can use [hugginface/transformers](https://github.com/huggingface/transformers) which gives complete implementations along with pretrained models for BERT, GPT1, GPT2, TransformerXL.\n",
    "\n",
    "Congrats you made it to the end. You now have most of the theoretical knowledge needed to practice NLP using the latest models and techniques.\n",
    "\n",
    "What to do now? You only learned the theory, now practice as much as you can."
   ]
  },
  {
   "cell_type": "code",
   "execution_count": null,
   "metadata": {},
   "outputs": [],
   "source": []
  }
 ],
 "metadata": {
  "kernelspec": {
   "display_name": "Python 3",
   "language": "python",
   "name": "python3"
  },
  "language_info": {
   "codemirror_mode": {
    "name": "ipython",
    "version": 3
   },
   "file_extension": ".py",
   "mimetype": "text/x-python",
   "name": "python",
   "nbconvert_exporter": "python",
   "pygments_lexer": "ipython3",
   "version": "3.8.2"
  },
  "toc": {
   "base_numbering": 1,
   "nav_menu": {},
   "number_sections": true,
   "sideBar": true,
   "skip_h1_title": false,
   "title_cell": "Table of Contents",
   "title_sidebar": "Contents",
   "toc_cell": false,
   "toc_position": {},
   "toc_section_display": true,
   "toc_window_display": true
  },
  "varInspector": {
   "cols": {
    "lenName": "20",
    "lenType": "25",
    "lenVar": "50"
   },
   "kernels_config": {
    "python": {
     "delete_cmd_postfix": "",
     "delete_cmd_prefix": "del ",
     "library": "var_list.py",
     "varRefreshCmd": "print(var_dic_list())"
    },
    "r": {
     "delete_cmd_postfix": ") ",
     "delete_cmd_prefix": "rm(",
     "library": "var_list.r",
     "varRefreshCmd": "cat(var_dic_list()) "
    }
   },
   "types_to_exclude": [
    "module",
    "function",
    "builtin_function_or_method",
    "instance",
    "_Feature"
   ],
   "window_display": false
  }
 },
 "nbformat": 4,
 "nbformat_minor": 4
}
