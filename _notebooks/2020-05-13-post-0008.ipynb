{
 "cells": [
  {
   "cell_type": "markdown",
   "metadata": {},
   "source": [
    "# \"How to setup personal blog using Ghost and Github hosting\"\n",
    "> Setup Ghost from source on local machine and use default Casper theme. Host the blog on Github for free.\n",
    "- toc: true\n",
    "- comments: true\n",
    "- author: Kushajveer Singh\n",
    "- categories: [notes]\n",
    "- permalink: how-to-setup-personal-blog-using-ghost-and-github-hosting\n",
    "- badges: false"
   ]
  },
  {
   "cell_type": "markdown",
   "metadata": {},
   "source": [
    "> Important: I have moved to [fastpages](https://fastpages.fast.ai/). fastpages is the best option is you want to write jupyter notebook and share them as posts. All the details of setup are provided on the fastpages homepage."
   ]
  },
  {
   "cell_type": "markdown",
   "metadata": {},
   "source": [
    "The website looks as shown below:"
   ]
  },
  {
   "cell_type": "markdown",
   "metadata": {},
   "source": [
    "![](images/post_008/01.jpeg)"
   ]
  },
  {
   "cell_type": "markdown",
   "metadata": {},
   "source": [
    "## My system info\n",
    "- Ubuntu 20.04 LTS\n",
    "- Ghost 3.15.3\n",
    "- Yarn 1.22.4\n",
    "- Nodejs 12.16.3"
   ]
  },
  {
   "cell_type": "markdown",
   "metadata": {},
   "source": [
    "## Short summary of what we are going to do.\n",
    "1. Install Ghost locally from source\n",
    "2. Use default casper theme to make the website\n",
    "3. Generate a static site using gssg\n",
    "4. Host the static site on Github"
   ]
  },
  {
   "cell_type": "markdown",
   "metadata": {},
   "source": [
    "## Install Ghost locally and it's dependencies\n",
    "1. Install NodeJS. (v12 is the recommended for Ghost).\n",
    "```\n",
    "curl -sL https://deb.nodesource.com/setup_12.x | sudo -E bash\n",
    "sudo apt install -y nodejs\n",
    "```\n",
    "2. Install Yarn.\n",
    "```\n",
    "curl -sS https://dl.yarnpkg.com/debian/pubkey.gpg | sudo apt-key add -\n",
    "echo \"deb https://dl.yarnpkg.com/debian/ stable main\" | sudo tee /etc/apt/sources.list.d/yarn.list\n",
    "sudo apt update && sudo apt install yarn\n",
    "```\n",
    "3. Install Ghost from source. (The official setup guide can be found here Note: Replace KushajveerSingh with your Github username.\n",
    "```\n",
    "git clone --recurse-submodules git@github.com:TryGhost/Ghost\n",
    "cd Ghost\n",
    "cd core/client\n",
    "cd ../../\n",
    "```\n",
    "4. This is a hack. If you follow the official setup guide then you would have forked the Ghost repo and added that as your upstream in the previous step. \n",
    "\n",
    "    I skipped that step, as I was having some problems with that. Instead I deleted the `.git` folder and initialized a new github repo for version control.\n",
    "\n",
    "    So go the main Ghost folder and delete `.git` folder. Then go to `core/client` and delete the `.git` folder and submodule file and you are done.\n",
    "5. Install dependencies (We are in home directory of `Ghost`)\n",
    "```\n",
    "sudo npm install\n",
    "sudo npm install -g knex-migrator\n",
    "knex-migrator i\n",
    "```\n",
    "6. Make your Ghost folder a github repo.\n",
    "    1. Goto Github and create a new repo where you want to store the `Ghost` folder.\n",
    "    2. In the `Ghost` folder run these commands to push it to github."
   ]
  },
  {
   "cell_type": "markdown",
   "metadata": {},
   "source": [
    "## Create website using Ghost\n",
    "Use `npm start` to start the Ghost server. This will open the server at `http://localhost:2368`.\n",
    "\n",
    "Goto `http://localhost:2368/ghost` from where you can start creating your website.\n",
    "\n",
    "Now create your website locally, and when you are done move to the next step."
   ]
  },
  {
   "cell_type": "markdown",
   "metadata": {},
   "source": [
    "## Download ghost-static-site-generator\n",
    "This is the tool that we will use to get a static site out of our Ghost site. You can check the [official github repo](https://github.com/Fried-Chicken/ghost-static-site-generator) of the package for more details on the usage.\n",
    "\n",
    "To download the package run `npm install -g ghost-static-site-generator`. If you get errors run this command again. I ran this command twice and it worked. Maybe try `sudo` if it still not works.\n",
    "\n",
    "Now you can create your static site using `gssg --url=https://kushajveersingh.github.io/` and it will create a `static` folder in your current directory, from where you can copy the contents to your `.github.io` repo."
   ]
  },
  {
   "cell_type": "markdown",
   "metadata": {},
   "source": [
    "## Automating the above process\n",
    "To automate the complete process and ensure that my `Ghost` repo and `.github.io` repo are in sync, I created this script.\n",
    "\n",
    "```\n",
    "# Change git_folder, ghost_folder, url\n",
    "# git_folder -> location of your .github.io repo\n",
    "# ghost_folder -> location of the Ghost folder in which you are creating your site\n",
    "# url -> The github address where your website will be published\n",
    "git_folder=\"/home/kushaj/Desktop/Github/KushajveerSingh.github.io\"\n",
    "ghost_folder=\"/home/kushaj/Desktop/Github/Ghost\"\n",
    "url=\"https://kushajveersingh.github.io/\"\n",
    "\n",
    "# Remove all contents of git_folder\n",
    "rm -r $git_folder/*\n",
    "\n",
    "# Generate static site using ghost-static-site-generator\n",
    "# The contents of the site are directly placed in the git_folder\n",
    "gssg --url $url --dest $git_folder\n",
    "\n",
    "# Commit the changes of git_folder\n",
    "cd $git_folder\n",
    "git add -A\n",
    "git commit -m \"$1\"\n",
    "git push origin master\n",
    "\n",
    "# Commit the changes of ghost_folder\n",
    "cd $ghost_folder\n",
    "git add -A\n",
    "git commit -m \"$1\"\n",
    "git push origin master\n",
    "```\n",
    "\n",
    "You need to change only `git_folder`, `ghost_folder` and url as per your requirements."
   ]
  },
  {
   "cell_type": "markdown",
   "metadata": {},
   "source": [
    "### Usage\n",
    "```\n",
    "./generate_script.sh \"initial commit\"\n",
    "```\n",
    "Your repositories will be pushed to Github with the provided commit message."
   ]
  },
  {
   "cell_type": "code",
   "execution_count": null,
   "metadata": {},
   "outputs": [],
   "source": []
  }
 ],
 "metadata": {
  "kernelspec": {
   "display_name": "Python 3 (ipykernel)",
   "language": "python",
   "name": "python3"
  },
  "language_info": {
   "codemirror_mode": {
    "name": "ipython",
    "version": 3
   },
   "file_extension": ".py",
   "mimetype": "text/x-python",
   "name": "python",
   "nbconvert_exporter": "python",
   "pygments_lexer": "ipython3",
   "version": "3.9.6"
  },
  "toc": {
   "base_numbering": 1,
   "nav_menu": {},
   "number_sections": true,
   "sideBar": true,
   "skip_h1_title": false,
   "title_cell": "Table of Contents",
   "title_sidebar": "Contents",
   "toc_cell": false,
   "toc_position": {},
   "toc_section_display": true,
   "toc_window_display": true
  },
  "varInspector": {
   "cols": {
    "lenName": "20",
    "lenType": "25",
    "lenVar": "50"
   },
   "kernels_config": {
    "python": {
     "delete_cmd_postfix": "",
     "delete_cmd_prefix": "del ",
     "library": "var_list.py",
     "varRefreshCmd": "print(var_dic_list())"
    },
    "r": {
     "delete_cmd_postfix": ") ",
     "delete_cmd_prefix": "rm(",
     "library": "var_list.r",
     "varRefreshCmd": "cat(var_dic_list()) "
    }
   },
   "types_to_exclude": [
    "module",
    "function",
    "builtin_function_or_method",
    "instance",
    "_Feature"
   ],
   "window_display": false
  }
 },
 "nbformat": 4,
 "nbformat_minor": 4
}
