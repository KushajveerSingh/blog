{
 "cells": [
  {
   "cell_type": "markdown",
   "metadata": {},
   "source": [
    "# \"fastai DataBlock API from Foundations\"\n",
    "> TODO SUMMARY\n",
    "- toc: true\n",
    "- comments: true\n",
    "- author: Kushajveer Singh\n",
    "- categories: [notes]\n",
    "- badges: true"
   ]
  },
  {
   "cell_type": "code",
   "execution_count": 1,
   "metadata": {},
   "outputs": [],
   "source": [
    "#hide\n",
    "from nbdev.showdoc import show_doc\n",
    "from fastai.callback.fp16 import to_fp16"
   ]
  },
  {
   "cell_type": "code",
   "execution_count": 2,
   "metadata": {},
   "outputs": [],
   "source": [
    "# Handles all the necessary imports\n",
    "from fastai.vision.all import *"
   ]
  },
  {
   "cell_type": "markdown",
   "metadata": {},
   "source": [
    "## Get dataset\n",
    "For this post I use [Imagewoof](https://github.com/fastai/imagenette) dataset. There is nothing special here. It is an ImageNet style dataset and will provide a good basis for the post."
   ]
  },
  {
   "cell_type": "code",
   "execution_count": 3,
   "metadata": {},
   "outputs": [
    {
     "data": {
      "text/plain": [
       "(#2) [Path('train'),Path('val')]"
      ]
     },
     "execution_count": 3,
     "metadata": {},
     "output_type": "execute_result"
    }
   ],
   "source": [
    "path = Path('/home/kushaj/Desktop/Data/imagewoof2/')\n",
    "Path.BASE_PATH = path\n",
    "path.ls()"
   ]
  },
  {
   "cell_type": "code",
   "execution_count": 4,
   "metadata": {},
   "outputs": [
    {
     "name": "stdout",
     "output_type": "stream",
     "text": [
      "\u001b[34;42m/home/kushaj/Desktop/Data/imagewoof2\u001b[00m\r\n",
      "├── \u001b[34;42mtrain\u001b[00m\r\n",
      "│   ├── \u001b[34;42mn02086240\u001b[00m\r\n",
      "│   ├── \u001b[34;42mn02087394\u001b[00m\r\n",
      "│   ├── \u001b[34;42mn02088364\u001b[00m\r\n",
      "│   ├── \u001b[34;42mn02089973\u001b[00m\r\n",
      "│   ├── \u001b[34;42mn02093754\u001b[00m\r\n",
      "│   ├── \u001b[34;42mn02096294\u001b[00m\r\n",
      "│   ├── \u001b[34;42mn02099601\u001b[00m\r\n",
      "│   ├── \u001b[34;42mn02105641\u001b[00m\r\n",
      "│   ├── \u001b[34;42mn02111889\u001b[00m\r\n",
      "│   └── \u001b[34;42mn02115641\u001b[00m\r\n",
      "└── \u001b[34;42mval\u001b[00m\r\n",
      "    ├── \u001b[34;42mn02086240\u001b[00m\r\n",
      "    ├── \u001b[34;42mn02087394\u001b[00m\r\n",
      "    ├── \u001b[34;42mn02088364\u001b[00m\r\n",
      "    ├── \u001b[34;42mn02089973\u001b[00m\r\n",
      "    ├── \u001b[34;42mn02093754\u001b[00m\r\n",
      "    ├── \u001b[34;42mn02096294\u001b[00m\r\n",
      "    ├── \u001b[34;42mn02099601\u001b[00m\r\n",
      "    ├── \u001b[34;42mn02105641\u001b[00m\r\n",
      "    ├── \u001b[34;42mn02111889\u001b[00m\r\n",
      "    └── \u001b[34;42mn02115641\u001b[00m\r\n",
      "\r\n",
      "22 directories, 0 files\r\n"
     ]
    }
   ],
   "source": [
    "!tree {path} -L 2"
   ]
  },
  {
   "cell_type": "markdown",
   "metadata": {},
   "source": [
    "## PyTorch `Dataset` class\n",
    "The base class to get items from the dataset. It is an instance of `torch.utils.data.Dataset`. fastai does not do anything special here. The same dataset class used in PyTorch can be used here.\n",
    "\n",
    "Let's start by defining the `Dataset` class for training and validation dataset. What do we need this class to do?\n",
    "\n",
    "It should get the name of image files. And that is it. The reason being the `DataLoader` class in fastai is very powerful (as we will soon see)."
   ]
  },
  {
   "cell_type": "markdown",
   "metadata": {},
   "source": [
    "> Note: To avoid messing up with fastai imports I use a underscore (\\_) in front of class names."
   ]
  },
  {
   "cell_type": "code",
   "execution_count": 5,
   "metadata": {},
   "outputs": [],
   "source": [
    "class _Dataset(torch.utils.data.Dataset):\n",
    "    def __init__(self, path): self.items = get_image_files(path)\n",
    "    def __len__(self)       : return len(self.items)\n",
    "    def __getitem__(self, i): return self.items[i]\n",
    "    \n",
    "dataset = {\n",
    "    'train': _Dataset(path/'train'),\n",
    "    'valid': _Dataset(path/'val'),\n",
    "}"
   ]
  },
  {
   "cell_type": "code",
   "execution_count": 6,
   "metadata": {},
   "outputs": [
    {
     "data": {
      "text/plain": [
       "(9025, 3929)"
      ]
     },
     "execution_count": 6,
     "metadata": {},
     "output_type": "execute_result"
    }
   ],
   "source": [
    "len(dataset['train']), len(dataset['valid'])"
   ]
  },
  {
   "cell_type": "code",
   "execution_count": 7,
   "metadata": {},
   "outputs": [
    {
     "data": {
      "text/plain": [
       "Path('train/n02111889/n02111889_11223.JPEG')"
      ]
     },
     "execution_count": 7,
     "metadata": {},
     "output_type": "execute_result"
    }
   ],
   "source": [
    "dataset['train'][1]"
   ]
  },
  {
   "cell_type": "markdown",
   "metadata": {},
   "source": [
    "## Create `DataLoader`\n",
    "The base dataloader class defined in `fastai.data.load.DataLoader` forms the basis of fastai DataBlock API.\n",
    "\n",
    "Please refer to my previous post [Deep dive into fastai DataLoader methods](https://kushajveersingh.github.io/blog/notes/2020/09/05/post-0013.html) which provides a 2 minute summary of all the important methods of `DataLoader` class.\n",
    "\n",
    "From this point I assume you are comfortable with the methods available in `DataLoader` class and in what order they operate.\n",
    "\n",
    "Now let's start creating our `DataLoader`."
   ]
  },
  {
   "cell_type": "markdown",
   "metadata": {},
   "source": [
    "### Get (image, label) tuple from filename\n",
    "This can be done using `after_item`. We need to read the image from disk and resize to a fixed size (224,224 for this example) and extract label of the image. For the labels, I manually create a dictionary to map folder name to integer.\n",
    "\n",
    "At this point we are still limiting ourselves by not using `Transform`s. We will use them in the next section."
   ]
  },
  {
   "cell_type": "code",
   "execution_count": 8,
   "metadata": {},
   "outputs": [],
   "source": [
    "vocab = {\n",
    "    'n02086240':0,\n",
    "    'n02087394':1,\n",
    "    'n02088364':2,\n",
    "    'n02089973':3,\n",
    "    'n02093754':4,\n",
    "    'n02096294':5,\n",
    "    'n02099601':6,\n",
    "    'n02105641':7,\n",
    "    'n02111889':8,\n",
    "    'n02115641':9,\n",
    "}"
   ]
  },
  {
   "cell_type": "code",
   "execution_count": 9,
   "metadata": {},
   "outputs": [],
   "source": [
    "def after_item(item):\n",
    "    # `item` here is dataset[idx] i.e. image file path\n",
    "    img = Image.open(item).convert('RGB').resize((224,224))\n",
    "    img = image2tensor(img)\n",
    "    lbl = vocab[item.parent.name]\n",
    "    return img, lbl"
   ]
  },
  {
   "cell_type": "code",
   "execution_count": 10,
   "metadata": {},
   "outputs": [
    {
     "data": {
      "text/plain": [
       "(tensor([[[103, 105, 107,  ...,  85,  86,  89],\n",
       "          [105, 105, 105,  ...,  81,  78,  81],\n",
       "          [109, 109, 109,  ...,  85,  83,  83],\n",
       "          ...,\n",
       "          [ 50,  44,  39,  ...,  70,  66,  66],\n",
       "          [ 47,  51,  57,  ...,  63,  60,  70],\n",
       "          [ 43,  49,  45,  ...,  58,  60,  56]],\n",
       " \n",
       "         [[ 77,  79,  82,  ...,  53,  53,  53],\n",
       "          [ 78,  78,  80,  ...,  48,  48,  49],\n",
       "          [ 80,  80,  82,  ...,  49,  48,  48],\n",
       "          ...,\n",
       "          [122, 113, 102,  ..., 142, 137, 137],\n",
       "          [106, 116, 132,  ..., 136, 137, 139],\n",
       "          [ 85, 104,  98,  ..., 134, 136, 137]],\n",
       " \n",
       "         [[ 55,  57,  59,  ...,  38,  34,  32],\n",
       "          [ 55,  56,  56,  ...,  34,  31,  33],\n",
       "          [ 61,  61,  63,  ...,  32,  32,  34],\n",
       "          ...,\n",
       "          [118, 107,  99,  ..., 148, 145, 144],\n",
       "          [104, 113, 130,  ..., 142, 143, 146],\n",
       "          [ 69,  90,  91,  ..., 140, 143, 144]]], dtype=torch.uint8),\n",
       " 8)"
      ]
     },
     "execution_count": 10,
     "metadata": {},
     "output_type": "execute_result"
    }
   ],
   "source": [
    "after_item(dataset['train'][1])"
   ]
  },
  {
   "cell_type": "markdown",
   "metadata": {},
   "source": [
    "### Apply some transforms\n",
    "This is where power of fastai comes into play. We can define the transforms to apply on CPU or on a complete batch on the GPU. `after_item` can also be considered a form of transform. \n",
    "\n",
    "To apply transforms on the complete batch on the GPU we use `after_batch`. For our example, we need to convert the image tensor to float and then normalize the tensor using imagenet mean and std."
   ]
  },
  {
   "cell_type": "code",
   "execution_count": 11,
   "metadata": {},
   "outputs": [],
   "source": [
    "def after_batch(b):\n",
    "    # `b` is a tuple of (image, label) \n",
    "    # `image` of shape [batch_size, num_channels, height, width]\n",
    "    # `label` of shape [batch_size]\n",
    "    device = torch.device('cuda')\n",
    "    \n",
    "    # move the batch to GPU\n",
    "    b = to_device(b, device)\n",
    "    imgs, lbls = b\n",
    "    \n",
    "    # convert `imgs` to float\n",
    "    imgs = imgs.div(255.)\n",
    "    \n",
    "    # normalize data\n",
    "    mean = torch.tensor([0.485, 0.456, 0.406], device=device).view(1,3,1,1)\n",
    "    std  = torch.tensor([0.229, 0.224, 0.225], device=device).view(1,3,1,1)\n",
    "    imgs = (imgs - mean) / std\n",
    "    \n",
    "    return imgs,lbls"
   ]
  },
  {
   "cell_type": "markdown",
   "metadata": {},
   "source": [
    "### Create `DataLoader`\n",
    "Now we are ready to create a `DataLoader` for training and validation dataset."
   ]
  },
  {
   "cell_type": "code",
   "execution_count": 12,
   "metadata": {},
   "outputs": [],
   "source": [
    "def get_dataloader(dataset, shuffle):\n",
    "    return DataLoader(dataset,\n",
    "                      bs=64,\n",
    "                      num_workers=12,\n",
    "                      shuffle=True,\n",
    "                      after_item=after_item,\n",
    "                      after_batch=after_batch)\n",
    "\n",
    "dl = {\n",
    "    'train': get_dataloader(dataset['train'], shuffle=True),\n",
    "    'valid': get_dataloader(dataset['valid'], shuffle=False),\n",
    "}\n",
    "\n",
    "dls = DataLoaders(dl['train'], dl['valid'], device=torch.device('cuda'))"
   ]
  },
  {
   "cell_type": "markdown",
   "metadata": {},
   "source": [
    "`DataLoaders` is just a wrapper around a list of `DataLoader`s. It handles all the internal things that are necessary to use training and validation dataloader in `Learner`.\n",
    "\n",
    "And that is it. Now we can create a learner."
   ]
  },
  {
   "cell_type": "code",
   "execution_count": 13,
   "metadata": {},
   "outputs": [],
   "source": [
    "learn = Learner(dls, \n",
    "                xresnet18(), \n",
    "                loss_func=CrossEntropyLossFlat(),\n",
    "                pretrained=False, \n",
    "                metrics=[accuracy]).to_fp16()"
   ]
  },
  {
   "cell_type": "code",
   "execution_count": 14,
   "metadata": {},
   "outputs": [
    {
     "data": {
      "text/html": [
       "<table border=\"1\" class=\"dataframe\">\n",
       "  <thead>\n",
       "    <tr style=\"text-align: left;\">\n",
       "      <th>epoch</th>\n",
       "      <th>train_loss</th>\n",
       "      <th>valid_loss</th>\n",
       "      <th>accuracy</th>\n",
       "      <th>time</th>\n",
       "    </tr>\n",
       "  </thead>\n",
       "  <tbody>\n",
       "    <tr>\n",
       "      <td>0</td>\n",
       "      <td>2.497939</td>\n",
       "      <td>2.082149</td>\n",
       "      <td>0.271570</td>\n",
       "      <td>00:14</td>\n",
       "    </tr>\n",
       "    <tr>\n",
       "      <td>1</td>\n",
       "      <td>1.853111</td>\n",
       "      <td>1.753154</td>\n",
       "      <td>0.378977</td>\n",
       "      <td>00:12</td>\n",
       "    </tr>\n",
       "    <tr>\n",
       "      <td>2</td>\n",
       "      <td>1.562037</td>\n",
       "      <td>1.554112</td>\n",
       "      <td>0.455332</td>\n",
       "      <td>00:12</td>\n",
       "    </tr>\n",
       "  </tbody>\n",
       "</table>"
      ],
      "text/plain": [
       "<IPython.core.display.HTML object>"
      ]
     },
     "metadata": {},
     "output_type": "display_data"
    }
   ],
   "source": [
    "learn.fit_one_cycle(3)"
   ]
  },
  {
   "cell_type": "markdown",
   "metadata": {},
   "source": [
    "## Summary till now\n",
    "Ideally, we are done. We can do almost anything by just using the `DataLoader` class. But we can still improve on some things. Consider the `after_batch` function that we defined above\n",
    "\n",
    "```python\n",
    "def after_batch(b):\n",
    "    # `b` is a tuple of (image, label) \n",
    "    # `image` of shape [batch_size, num_channels, height, width]\n",
    "    # `label` of shape [batch_size]\n",
    "    device = torch.device('cuda')\n",
    "    b = to_device(b, device)\n",
    "    imgs, lbls = b\n",
    "    \n",
    "    # convert `imgs` to float\n",
    "    imgs = imgs.div(255.)\n",
    "    \n",
    "    # normalize data\n",
    "    mean = torch.tensor([0.485, 0.456, 0.406], device=device).view(1,3,1,1)\n",
    "    std  = torch.tensor([0.229, 0.224, 0.225], device=device).view(1,3,1,1)\n",
    "    imgs = (imgs - mean) / std\n",
    "    \n",
    "    return imgs,lbls\n",
    "```\n",
    "\n",
    "We can summarize the above function as performing 3 steps\n",
    "1. Move batch to GPU.\n",
    "2. Convert integer tensor to float.\n",
    "3. Normalize the data.\n",
    "\n",
    "Now imagine if we had to add code for data augmentation or we wanted to define different functions for the training and validation split (we do not want to apply data augmentation to validation set). This can quickly get out of hand.\n",
    "\n",
    "This is where fastai's [Type Dispatch](https://fastcore.fast.ai/dispatch.html) and [Transform](https://fastcore.fast.ai/transform.html) comes into play. These are incredibly powerful tools. "
   ]
  },
  {
   "cell_type": "markdown",
   "metadata": {},
   "source": [
    "## The real thing begins\n",
    "This section defines how you can define your own `DataBlock` with all the bells and whistles of fastai.\n",
    "\n",
    "For every item in the `DataLoader` we need to a define a type (i.e. `class` in python) for that item. In the previous section the `DataLoader` consists of `(image, label)`. So we need to define a base class for these two things. Why are we doing this?\n",
    "\n",
    "There are two reasons:\n",
    "1. The base class knows how to create the object. In case of image, the base class would know how to open the image from disk.\n",
    "2. The base class knows how to show the object. In case of image, it would know how to plot the image.\n",
    "\n",
    "From model training perspective it is not important to define a `show` method because it does nothing for training the model. But defining this method can be considered a good practice. This `show` method allows you to use methods like `show_batch`, `show_results` and more which can come handy during debugging of your model and for interpretation of the results.\n",
    "\n",
    "After creating the base class we also need to create a `Block` from that class. This stores all the default transforms for that base class.\n",
    "\n",
    "Let's start."
   ]
  },
  {
   "cell_type": "markdown",
   "metadata": {},
   "source": [
    "### Create base class (PILImage)\n",
    "```python\n",
    "class _PILImage(Image.Image, metaclass=BypassNewMeta)\n",
    "```\n",
    "Using `metaclass=BypassNewMeta` is important. You can read about this class [here](https://fastcore.fast.ai/foundation.html#BypassNewMeta). In short, it avoids recreating the object passed to constructor.\n",
    "\n",
    "`Image.Image`. As we are dealing with images and `PIL` is a very good library to handle images, we can build upon this library. "
   ]
  },
  {
   "cell_type": "code",
   "execution_count": 26,
   "metadata": {},
   "outputs": [],
   "source": [
    "class _PILImage(Image.Image, metaclass=BypassNewMeta):\n",
    "    @classmethod\n",
    "    def create(cls, path)->None: return cls(Image.open(path).convert('RGB'))\n",
    "    def show(self): plt.imshow(self)"
   ]
  },
  {
   "cell_type": "markdown",
   "metadata": {},
   "source": [
    "This is the simplest definition of an ImageBlock. It knows how to create an image from a filename and how to show the image."
   ]
  },
  {
   "cell_type": "markdown",
   "metadata": {},
   "source": [
    "> Note: Do not forget to wrap `Image.open(path)` using `cls`. Otherwise the returned object would be of type `PIL.Image.Image`."
   ]
  },
  {
   "cell_type": "code",
   "execution_count": 27,
   "metadata": {},
   "outputs": [],
   "source": [
    "img_path = path/'train'/'n02086240'/'ILSVRC2012_val_00000907.JPEG'\n",
    "img = _PILImage.create(img_path)"
   ]
  },
  {
   "cell_type": "code",
   "execution_count": 28,
   "metadata": {},
   "outputs": [
    {
     "data": {
      "text/plain": [
       "__main__._PILImage"
      ]
     },
     "execution_count": 28,
     "metadata": {},
     "output_type": "execute_result"
    }
   ],
   "source": [
    "type(img)"
   ]
  },
  {
   "cell_type": "code",
   "execution_count": 29,
   "metadata": {},
   "outputs": [
    {
     "data": {
      "image/png": "[encoded data removed]",
      "text/plain": [
       "<Figure size 432x288 with 1 Axes>"
      ]
     },
     "metadata": {
      "needs_background": "light"
     },
     "output_type": "display_data"
    }
   ],
   "source": [
    "img.show()"
   ]
  },
  {
   "cell_type": "markdown",
   "metadata": {},
   "source": [
    "### Create block (ImageBlock)\n",
    "Now we need to add some information on what transforms should be applied by default whenever we use this base class (`_PILImage`). In case of image, the image needs to be converted to float before passing through the model. This information can be added in a `Block`.\n",
    "\n",
    "First, let's define a transform that coverts input image to float."
   ]
  },
  {
   "cell_type": "code",
   "execution_count": 30,
   "metadata": {},
   "outputs": [],
   "source": [
    "class _IntToFloatTensor(DisplayedTransform):\n",
    "    def encodes(self, o): return o.float().div_(255.)\n",
    "    def decodes(self, o): return (o.clamp(0., 1.)*255.).long()"
   ]
  },
  {
   "cell_type": "markdown",
   "metadata": {},
   "source": [
    "Defining a `Transform` in fastai requires you to define two main function.\n",
    "* `encodes`: how to get from input to output\n",
    "* `decodes`: how to get from output to input\n",
    "\n",
    "Defining `decodes` is not important from a model training perspective. But it is a good practice. Without this method you cannot use various `show` methods that comes with `DataLoader`."
   ]
  },
  {
   "cell_type": "code",
   "execution_count": 31,
   "metadata": {},
   "outputs": [
    {
     "data": {
      "text/plain": [
       "_IntToFloatTensor -- {}:\n",
       "encodes: (object,object) -> encodes\n",
       "decodes: (object,object) -> decodes"
      ]
     },
     "execution_count": 31,
     "metadata": {},
     "output_type": "execute_result"
    }
   ],
   "source": [
    "tfm = _IntToFloatTensor()\n",
    "tfm"
   ]
  },
  {
   "cell_type": "markdown",
   "metadata": {},
   "source": [
    "[DisplayedTransform](https://fastcore.fast.ai/transform.html#DisplayedTransform) is same as `Transform`. It just adds a `__repr__` method on top of `Transform`."
   ]
  },
  {
   "cell_type": "markdown",
   "metadata": {},
   "source": [
    "> Important: If you want the transform to be only applied to training split, use `split_idx=0` in the `Transform` definition as shown below."
   ]
  },
  {
   "cell_type": "code",
   "execution_count": 33,
   "metadata": {},
   "outputs": [],
   "source": [
    "class SomeTransform(Transform):\n",
    "    split_idx=0 # only applied to training dataset\n",
    "    split_idx=1 # only applied to validation dataset\n",
    "    \n",
    "    def encodes(self): pass\n",
    "    def decodes(self): pass"
   ]
  },
  {
   "cell_type": "markdown",
   "metadata": {},
   "source": [
    "Now to combine the base class and transforms, we use [TransformBlock](https://docs.fast.ai/data.block.html#TransformBlock)."
   ]
  },
  {
   "cell_type": "code",
   "execution_count": 35,
   "metadata": {},
   "outputs": [],
   "source": [
    "def _ImageBlock(cls=_ImageBlock):\n",
    "    return TransformBlock(type_tfms=cls.create,\n",
    "                          batch_tfms=[_IntToFloatTensor])"
   ]
  },
  {
   "cell_type": "markdown",
   "metadata": {},
   "source": [
    "And this is it. Using the above steps you can easily create any **Block** for your particular application. Now we can pass `_ImageBlock` in `DataBlock`."
   ]
  },
  {
   "cell_type": "code",
   "execution_count": null,
   "metadata": {},
   "outputs": [],
   "source": []
  }
 ],
 "metadata": {
  "kernelspec": {
   "display_name": "Python 3",
   "language": "python",
   "name": "python3"
  },
  "language_info": {
   "codemirror_mode": {
    "name": "ipython",
    "version": 3
   },
   "file_extension": ".py",
   "mimetype": "text/x-python",
   "name": "python",
   "nbconvert_exporter": "python",
   "pygments_lexer": "ipython3",
   "version": "3.8.5"
  },
  "toc": {
   "base_numbering": 1,
   "nav_menu": {},
   "number_sections": true,
   "sideBar": true,
   "skip_h1_title": true,
   "title_cell": "Table of Contents",
   "title_sidebar": "Contents",
   "toc_cell": false,
   "toc_position": {},
   "toc_section_display": true,
   "toc_window_display": false
  }
 },
 "nbformat": 4,
 "nbformat_minor": 4
}
